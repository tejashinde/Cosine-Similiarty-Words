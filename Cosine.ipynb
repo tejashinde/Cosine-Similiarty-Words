{
 "cells": [
  {
   "cell_type": "code",
   "execution_count": 1,
   "metadata": {},
   "outputs": [
    {
     "name": "stderr",
     "output_type": "stream",
     "text": [
      "Using TensorFlow backend.\n"
     ]
    }
   ],
   "source": [
    "from numpy import array\n",
    "from keras.preprocessing.text import one_hot\n",
    "from keras.preprocessing.sequence import pad_sequences\n",
    "from keras.models import Sequential\n",
    "from keras.layers import Dense\n",
    "from keras.layers import Flatten\n",
    "from keras.layers.embeddings import Embedding\n",
    "import numpy\n",
    "from numpy.linalg import norm\n",
    "import heapq"
   ]
  },
  {
   "cell_type": "code",
   "execution_count": 4,
   "metadata": {},
   "outputs": [],
   "source": [
    "# define documents\n",
    "docs = ['Well done!','Good work','Great effort',\n",
    "\t\t'nice work',\n",
    "\t\t'Excellent!',\n",
    "\t\t'Weak',\n",
    "\t\t'Poor effort!',\n",
    "\t\t'not good',\n",
    "\t\t'poor work',\n",
    "\t\t'Could have done better.']\n",
    "# define class labels\n",
    "labels = array([1,1,1,1,1,0,0,0,0,0])"
   ]
  },
  {
   "cell_type": "code",
   "execution_count": null,
   "metadata": {},
   "outputs": [],
   "source": []
  },
  {
   "cell_type": "code",
   "execution_count": 5,
   "metadata": {},
   "outputs": [
    {
     "name": "stdout",
     "output_type": "stream",
     "text": [
      "[[25, 42], [37, 4], [43, 3], [1, 4], [38], [3], [47, 3], [21, 37], [47, 4], [49, 44, 42, 21]]\n"
     ]
    }
   ],
   "source": [
    "# integer encode the documents\n",
    "vocab_size = 50\n",
    "encoded_docs = [one_hot(d, vocab_size) for d in docs]\n",
    "print(encoded_docs)"
   ]
  },
  {
   "cell_type": "code",
   "execution_count": 6,
   "metadata": {},
   "outputs": [
    {
     "name": "stdout",
     "output_type": "stream",
     "text": [
      "[[25 42  0  0]\n",
      " [37  4  0  0]\n",
      " [43  3  0  0]\n",
      " [ 1  4  0  0]\n",
      " [38  0  0  0]\n",
      " [ 3  0  0  0]\n",
      " [47  3  0  0]\n",
      " [21 37  0  0]\n",
      " [47  4  0  0]\n",
      " [49 44 42 21]]\n"
     ]
    }
   ],
   "source": [
    "# pad documents to a max length of 4 words\n",
    "max_length = 4\n",
    "padded_docs = pad_sequences(encoded_docs, maxlen=max_length, padding='post')\n",
    "print(padded_docs)"
   ]
  },
  {
   "cell_type": "code",
   "execution_count": 7,
   "metadata": {},
   "outputs": [],
   "source": [
    "# define the model\n",
    "model = Sequential()\n",
    "model.add(Embedding(input_dim=vocab_size, output_dim=8, input_length=max_length))\n",
    "model.add(Flatten())\n",
    "model.add(Dense(1, activation='sigmoid'))"
   ]
  },
  {
   "cell_type": "code",
   "execution_count": 8,
   "metadata": {},
   "outputs": [
    {
     "name": "stdout",
     "output_type": "stream",
     "text": [
      "_________________________________________________________________\n",
      "Layer (type)                 Output Shape              Param #   \n",
      "=================================================================\n",
      "embedding_1 (Embedding)      (None, 4, 8)              400       \n",
      "_________________________________________________________________\n",
      "flatten_1 (Flatten)          (None, 32)                0         \n",
      "_________________________________________________________________\n",
      "dense_1 (Dense)              (None, 1)                 33        \n",
      "=================================================================\n",
      "Total params: 433\n",
      "Trainable params: 433\n",
      "Non-trainable params: 0\n",
      "_________________________________________________________________\n",
      "None\n"
     ]
    }
   ],
   "source": [
    "# compile the model\n",
    "model.compile(optimizer='sgd', loss='binary_crossentropy', metrics=['acc'])\n",
    "# summarize the model\n",
    "print(model.summary())"
   ]
  },
  {
   "cell_type": "code",
   "execution_count": 9,
   "metadata": {},
   "outputs": [
    {
     "name": "stdout",
     "output_type": "stream",
     "text": [
      "Accuracy: 60.000002\n"
     ]
    }
   ],
   "source": [
    "# fit the model\n",
    "model.fit(padded_docs, labels, epochs=50, verbose=0)\n",
    "# evaluate the model\n",
    "loss, accuracy = model.evaluate(padded_docs, labels, verbose=0)\n",
    "print('Accuracy: %f' % (accuracy*100))"
   ]
  },
  {
   "cell_type": "markdown",
   "metadata": {},
   "source": []
  },
  {
   "cell_type": "markdown",
   "metadata": {
    "collapsed": true
   },
   "source": [
    "# GloVe"
   ]
  },
  {
   "cell_type": "markdown",
   "metadata": {},
   "source": [
    "### Cosine Similarity Function"
   ]
  },
  {
   "cell_type": "code",
   "execution_count": 2,
   "metadata": {},
   "outputs": [],
   "source": [
    "def cosine_similarity(a , b):\n",
    "    numerator = numpy.dot(a , b)\n",
    "    denominator = norm(a) * norm(b)\n",
    "    return numerator/denominator"
   ]
  },
  {
   "cell_type": "code",
   "execution_count": 10,
   "metadata": {},
   "outputs": [
    {
     "name": "stdout",
     "output_type": "stream",
     "text": [
      "[[6, 2], [3, 1], [7, 4], [8, 1], [9], [10], [5, 4], [11, 3], [5, 1], [12, 13, 2, 14]]\n",
      "[[ 6  2  0  0]\n",
      " [ 3  1  0  0]\n",
      " [ 7  4  0  0]\n",
      " [ 8  1  0  0]\n",
      " [ 9  0  0  0]\n",
      " [10  0  0  0]\n",
      " [ 5  4  0  0]\n",
      " [11  3  0  0]\n",
      " [ 5  1  0  0]\n",
      " [12 13  2 14]]\n"
     ]
    }
   ],
   "source": [
    "from keras.preprocessing.text import Tokenizer\n",
    "\n",
    "docs = ['Well done!',\n",
    "\t\t'Good work',\n",
    "\t\t'Great effort',\n",
    "\t\t'nice work',\n",
    "\t\t'Excellent!',\n",
    "\t\t'Weak',\n",
    "\t\t'Poor effort!',\n",
    "\t\t'not good',\n",
    "\t\t'poor work',\n",
    "\t\t'Could have done better.']\n",
    "# define class labels\n",
    "labels = array([1,1,1,1,1,0,0,0,0,0])\n",
    "# prepare tokenizer\n",
    "t = Tokenizer()\n",
    "t.fit_on_texts(docs)\n",
    "vocab_size = len(t.word_index) + 1\n",
    "# integer encode the documents\n",
    "encoded_docs = t.texts_to_sequences(docs)\n",
    "print(encoded_docs)\n",
    "# pad documents to a max length of 4 words\n",
    "max_length = 4\n",
    "padded_docs = pad_sequences(encoded_docs, maxlen=max_length, padding='post')\n",
    "print(padded_docs)"
   ]
  },
  {
   "cell_type": "code",
   "execution_count": 11,
   "metadata": {},
   "outputs": [],
   "source": [
    "docs = ['Well done!',\n",
    "\t\t'Good work',\n",
    "\t\t'Great effort',\n",
    "\t\t'nice work',\n",
    "\t\t'Excellent!',\n",
    "\t\t'Weak',\n",
    "\t\t'Poor effort!',\n",
    "\t\t'not good',\n",
    "\t\t'poor work',\n",
    "\t\t'Could have done better.']\n",
    "# define class labels\n",
    "labels = array([1,1,1,1,1,0,0,0,0,0])"
   ]
  },
  {
   "cell_type": "code",
   "execution_count": 12,
   "metadata": {},
   "outputs": [
    {
     "name": "stdout",
     "output_type": "stream",
     "text": [
      "defaultdict(<class 'int'>, {'well': 1, 'done': 2, 'good': 2, 'work': 3, 'great': 1, 'effort': 2, 'nice': 1, 'excellent': 1, 'weak': 1, 'poor': 2, 'not': 1, 'better': 1, 'have': 1, 'could': 1})\n"
     ]
    }
   ],
   "source": [
    "t = Tokenizer()\n",
    "t.fit_on_texts(docs)\n",
    "print(t.word_docs)"
   ]
  },
  {
   "cell_type": "code",
   "execution_count": 13,
   "metadata": {},
   "outputs": [],
   "source": [
    "vocab = len(t.word_counts) + 1"
   ]
  },
  {
   "cell_type": "code",
   "execution_count": 14,
   "metadata": {},
   "outputs": [],
   "source": [
    "encoded_docs = t.texts_to_sequences(docs)\n",
    "padded_docs = pad_sequences(encoded_docs, maxlen=4, padding=\"post\")"
   ]
  },
  {
   "cell_type": "code",
   "execution_count": 16,
   "metadata": {},
   "outputs": [
    {
     "name": "stdout",
     "output_type": "stream",
     "text": [
      "Loaded 400000 word vectors.\n"
     ]
    }
   ],
   "source": [
    "import numpy as np\n",
    "# load the whole embedding into memory\n",
    "embeddings_index = dict()\n",
    "with open('../data/glove.6B.100d.txt') as f:\n",
    "    for line in f:\n",
    "        values = line.split()\n",
    "        word = values[0]\n",
    "        coefs = np.asarray(values[1:], dtype='float32')\n",
    "        embeddings_index[word] = coefs\n",
    "print('Loaded %s word vectors.' % len(embeddings_index))"
   ]
  },
  {
   "cell_type": "code",
   "execution_count": 42,
   "metadata": {},
   "outputs": [],
   "source": [
    "# cosine_similarity(embeddings_index.get('cat') , embeddings_index.get())\n",
    "scores_list = []\n",
    "catN = embeddings_index.get('cat')\n",
    "for iterator in embeddings_index.keys():\n",
    "#     print(heapq.nlargest(10 , cosine_similarity(catN , embeddings_index.get(iterator))))\n",
    "    scores_list.append(cosine_similarity(catN , embeddings_index.get(iterator)))"
   ]
  },
  {
   "cell_type": "code",
   "execution_count": 33,
   "metadata": {},
   "outputs": [
    {
     "data": {
      "text/plain": [
       "array([ 0.23088 ,  0.28283 ,  0.6318  , -0.59411 , -0.58599 ,  0.63255 ,\n",
       "        0.24402 , -0.14108 ,  0.060815, -0.7898  ], dtype=float32)"
      ]
     },
     "execution_count": 33,
     "metadata": {},
     "output_type": "execute_result"
    }
   ],
   "source": [
    "embeddings_index.get('cat')[:10]"
   ]
  },
  {
   "cell_type": "markdown",
   "metadata": {},
   "source": [
    "# Embedding Matrix of vocab\n",
    "### Matrix of weights only for words in our training data"
   ]
  },
  {
   "cell_type": "code",
   "execution_count": 26,
   "metadata": {
    "collapsed": true
   },
   "outputs": [],
   "source": [
    "# create a weight matrix for words in training docs\n",
    "# 100 is embedding size, if you are using \n",
    "embedding_matrix = np.zeros((vocab_size, 100))\n",
    "for word, i in t.word_index.items():\n",
    "    embedding_vector = embeddings_index.get(word)\n",
    "    if embedding_vector is not None:\n",
    "        embedding_matrix[i] = embedding_vector"
   ]
  },
  {
   "cell_type": "code",
   "execution_count": 36,
   "metadata": {},
   "outputs": [
    {
     "name": "stdout",
     "output_type": "stream",
     "text": [
      "_________________________________________________________________\n",
      "Layer (type)                 Output Shape              Param #   \n",
      "=================================================================\n",
      "embedding_4 (Embedding)      (None, 4, 100)            1500      \n",
      "_________________________________________________________________\n",
      "flatten_4 (Flatten)          (None, 400)               0         \n",
      "_________________________________________________________________\n",
      "dense_6 (Dense)              (None, 256)               102656    \n",
      "_________________________________________________________________\n",
      "dense_7 (Dense)              (None, 1)                 257       \n",
      "=================================================================\n",
      "Total params: 104,413\n",
      "Trainable params: 102,913\n",
      "Non-trainable params: 1,500\n",
      "_________________________________________________________________\n",
      "None\n",
      "Epoch 1/50\n",
      "10/10 [==============================] - 0s 49ms/step - loss: 0.7950 - acc: 0.5000\n",
      "Epoch 2/50\n",
      "10/10 [==============================] - 0s 763us/step - loss: 0.6973 - acc: 0.6000\n",
      "Epoch 3/50\n",
      "10/10 [==============================] - 0s 755us/step - loss: 0.6326 - acc: 0.6000\n",
      "Epoch 4/50\n",
      "10/10 [==============================] - 0s 2ms/step - loss: 0.5933 - acc: 0.9000\n",
      "Epoch 5/50\n",
      "10/10 [==============================] - 0s 1ms/step - loss: 0.5660 - acc: 0.8000\n",
      "Epoch 6/50\n",
      "10/10 [==============================] - 0s 509us/step - loss: 0.5401 - acc: 0.8000\n",
      "Epoch 7/50\n",
      "10/10 [==============================] - 0s 986us/step - loss: 0.5114 - acc: 0.8000\n",
      "Epoch 8/50\n",
      "10/10 [==============================] - 0s 388us/step - loss: 0.4804 - acc: 0.9000\n",
      "Epoch 9/50\n",
      "10/10 [==============================] - 0s 672us/step - loss: 0.4493 - acc: 1.0000\n",
      "Epoch 10/50\n",
      "10/10 [==============================] - 0s 927us/step - loss: 0.4201 - acc: 1.0000\n",
      "Epoch 11/50\n",
      "10/10 [==============================] - 0s 575us/step - loss: 0.3941 - acc: 1.0000\n",
      "Epoch 12/50\n",
      "10/10 [==============================] - 0s 706us/step - loss: 0.3715 - acc: 1.0000\n",
      "Epoch 13/50\n",
      "10/10 [==============================] - 0s 805us/step - loss: 0.3518 - acc: 1.0000\n",
      "Epoch 14/50\n",
      "10/10 [==============================] - 0s 1ms/step - loss: 0.3341 - acc: 1.0000\n",
      "Epoch 15/50\n",
      "10/10 [==============================] - 0s 379us/step - loss: 0.3174 - acc: 1.0000\n",
      "Epoch 16/50\n",
      "10/10 [==============================] - 0s 489us/step - loss: 0.3011 - acc: 1.0000\n",
      "Epoch 17/50\n",
      "10/10 [==============================] - 0s 407us/step - loss: 0.2848 - acc: 1.0000\n",
      "Epoch 18/50\n",
      "10/10 [==============================] - 0s 384us/step - loss: 0.2686 - acc: 1.0000\n",
      "Epoch 19/50\n",
      "10/10 [==============================] - 0s 438us/step - loss: 0.2529 - acc: 1.0000\n",
      "Epoch 20/50\n",
      "10/10 [==============================] - 0s 387us/step - loss: 0.2379 - acc: 1.0000\n",
      "Epoch 21/50\n",
      "10/10 [==============================] - 0s 397us/step - loss: 0.2240 - acc: 1.0000\n",
      "Epoch 22/50\n",
      "10/10 [==============================] - 0s 389us/step - loss: 0.2113 - acc: 1.0000\n",
      "Epoch 23/50\n",
      "10/10 [==============================] - 0s 515us/step - loss: 0.1996 - acc: 1.0000\n",
      "Epoch 24/50\n",
      "10/10 [==============================] - 0s 496us/step - loss: 0.1888 - acc: 1.0000\n",
      "Epoch 25/50\n",
      "10/10 [==============================] - 0s 834us/step - loss: 0.1789 - acc: 1.0000\n",
      "Epoch 26/50\n",
      "10/10 [==============================] - 0s 434us/step - loss: 0.1696 - acc: 1.0000\n",
      "Epoch 27/50\n",
      "10/10 [==============================] - 0s 472us/step - loss: 0.1607 - acc: 1.0000\n",
      "Epoch 28/50\n",
      "10/10 [==============================] - 0s 557us/step - loss: 0.1522 - acc: 1.0000\n",
      "Epoch 29/50\n",
      "10/10 [==============================] - 0s 623us/step - loss: 0.1441 - acc: 1.0000\n",
      "Epoch 30/50\n",
      "10/10 [==============================] - 0s 565us/step - loss: 0.1363 - acc: 1.0000\n",
      "Epoch 31/50\n",
      "10/10 [==============================] - 0s 605us/step - loss: 0.1289 - acc: 1.0000\n",
      "Epoch 32/50\n",
      "10/10 [==============================] - 0s 459us/step - loss: 0.1219 - acc: 1.0000\n",
      "Epoch 33/50\n",
      "10/10 [==============================] - 0s 365us/step - loss: 0.1155 - acc: 1.0000\n",
      "Epoch 34/50\n",
      "10/10 [==============================] - 0s 481us/step - loss: 0.1095 - acc: 1.0000\n",
      "Epoch 35/50\n",
      "10/10 [==============================] - 0s 411us/step - loss: 0.1040 - acc: 1.0000\n",
      "Epoch 36/50\n",
      "10/10 [==============================] - 0s 344us/step - loss: 0.0988 - acc: 1.0000\n",
      "Epoch 37/50\n",
      "10/10 [==============================] - 0s 505us/step - loss: 0.0940 - acc: 1.0000\n",
      "Epoch 38/50\n",
      "10/10 [==============================] - 0s 420us/step - loss: 0.0895 - acc: 1.0000\n",
      "Epoch 39/50\n",
      "10/10 [==============================] - 0s 596us/step - loss: 0.0853 - acc: 1.0000\n",
      "Epoch 40/50\n",
      "10/10 [==============================] - 0s 438us/step - loss: 0.0813 - acc: 1.0000\n",
      "Epoch 41/50\n",
      "10/10 [==============================] - 0s 410us/step - loss: 0.0776 - acc: 1.0000\n",
      "Epoch 42/50\n",
      "10/10 [==============================] - 0s 441us/step - loss: 0.0741 - acc: 1.0000\n",
      "Epoch 43/50\n",
      "10/10 [==============================] - 0s 639us/step - loss: 0.0707 - acc: 1.0000\n",
      "Epoch 44/50\n",
      "10/10 [==============================] - 0s 1ms/step - loss: 0.0676 - acc: 1.0000\n",
      "Epoch 45/50\n",
      "10/10 [==============================] - 0s 637us/step - loss: 0.0646 - acc: 1.0000\n",
      "Epoch 46/50\n",
      "10/10 [==============================] - 0s 756us/step - loss: 0.0618 - acc: 1.0000\n",
      "Epoch 47/50\n",
      "10/10 [==============================] - 0s 1ms/step - loss: 0.0592 - acc: 1.0000\n",
      "Epoch 48/50\n",
      "10/10 [==============================] - 0s 494us/step - loss: 0.0568 - acc: 1.0000\n",
      "Epoch 49/50\n",
      "10/10 [==============================] - 0s 575us/step - loss: 0.0545 - acc: 1.0000\n",
      "Epoch 50/50\n",
      "10/10 [==============================] - 0s 452us/step - loss: 0.0523 - acc: 1.0000\n",
      "Accuracy: 100.000000\n"
     ]
    }
   ],
   "source": [
    "model = Sequential()\n",
    "e = Embedding(vocab_size, 100, weights=[embedding_matrix], input_length=4, trainable=False)\n",
    "model.add(e)\n",
    "model.add(Flatten())\n",
    "model.add(Dense(256, activation='sigmoid'))\n",
    "model.add(Dense(1, activation='sigmoid'))\n",
    "# compile the model\n",
    "model.compile(optimizer='adam', loss='binary_crossentropy', metrics=['acc'])\n",
    "# summarize the model\n",
    "print(model.summary())\n",
    "# fit the model\n",
    "model.fit(padded_docs, labels, epochs=50, verbose=1)\n",
    "# evaluate the model\n",
    "loss, accuracy = model.evaluate(padded_docs, labels, verbose=0)\n",
    "print('Accuracy: %f' % (accuracy*100))"
   ]
  },
  {
   "cell_type": "code",
   "execution_count": null,
   "metadata": {
    "collapsed": true
   },
   "outputs": [],
   "source": []
  },
  {
   "cell_type": "code",
   "execution_count": null,
   "metadata": {
    "collapsed": true
   },
   "outputs": [],
   "source": []
  }
 ],
 "metadata": {
  "kernelspec": {
   "display_name": "Python 3",
   "language": "python",
   "name": "python3"
  },
  "language_info": {
   "codemirror_mode": {
    "name": "ipython",
    "version": 3
   },
   "file_extension": ".py",
   "mimetype": "text/x-python",
   "name": "python",
   "nbconvert_exporter": "python",
   "pygments_lexer": "ipython3",
   "version": "3.7.0"
  }
 },
 "nbformat": 4,
 "nbformat_minor": 2
}
